{
 "cells": [
  {
   "cell_type": "code",
   "execution_count": 1,
   "id": "5567e8e0",
   "metadata": {},
   "outputs": [],
   "source": [
    "import pandas as pd"
   ]
  },
  {
   "cell_type": "code",
   "execution_count": 2,
   "id": "8cbf1902",
   "metadata": {},
   "outputs": [],
   "source": [
    "data_tweet = pd.read_csv (r\"C:\\Users\\vira_\\Downloads\\tweet_emotions.csv\")"
   ]
  },
  {
   "cell_type": "code",
   "execution_count": 3,
   "id": "9c07f13a",
   "metadata": {},
   "outputs": [],
   "source": [
    "data_tweet[\"sentiment\"] = data_tweet[\"sentiment\"].apply(lambda x: x if x in ['neutral', 'worry', 'happiness', 'sadness', 'love'] \n",
    "                                               else 'other')"
   ]
  },
  {
   "cell_type": "markdown",
   "id": "4564b323",
   "metadata": {},
   "source": [
    "### Preprocessing"
   ]
  },
  {
   "cell_type": "code",
   "execution_count": 4,
   "id": "373e7fd3",
   "metadata": {},
   "outputs": [],
   "source": [
    "import re\n",
    "from nltk.tokenize import TweetTokenizer\n",
    "import nltk\n",
    "# nltk.download('stopwords')\n",
    "from nltk.corpus import stopwords\n",
    "from nltk.stem import WordNetLemmatizer\n",
    "stemmer = WordNetLemmatizer()"
   ]
  },
  {
   "cell_type": "code",
   "execution_count": 5,
   "id": "ff8a480a",
   "metadata": {},
   "outputs": [],
   "source": [
    "def preprocess_text(text):\n",
    "    text = re.sub(r'\\s+', ' ', text, flags=re.I)\n",
    "    text = re.sub(r'\\W', ' ', str(text))\n",
    "    text = re.sub(r'\\s+[a-zA-Z]\\s+', ' ', text)\n",
    "    text = text.lower()\n",
    "    tokens = nltk.word_tokenize(text)\n",
    "    lemma_text = [stemmer.lemmatize(word) for word in tokens]\n",
    "    stops = set(stopwords.words(\"english\"))\n",
    "    no_stop_text = [word for word in lemma_text if word not in stops] \n",
    "    clean_text = ' '.join(no_stop_text)\n",
    "    return clean_text"
   ]
  },
  {
   "cell_type": "code",
   "execution_count": 6,
   "id": "d396714c",
   "metadata": {},
   "outputs": [],
   "source": [
    "clean_tweets = [preprocess_text(sentence) for sentence in data_tweet[\"content\"]]"
   ]
  },
  {
   "cell_type": "markdown",
   "id": "adf44835",
   "metadata": {},
   "source": [
    "### Vectorization"
   ]
  },
  {
   "cell_type": "code",
   "execution_count": 7,
   "id": "f9dcccfd",
   "metadata": {},
   "outputs": [],
   "source": [
    "from sklearn.feature_extraction.text import TfidfVectorizer"
   ]
  },
  {
   "cell_type": "code",
   "execution_count": 8,
   "id": "f462495d",
   "metadata": {},
   "outputs": [],
   "source": [
    "tfidf_vect = TfidfVectorizer(stop_words=\"english\")\n",
    "\n",
    "X = tfidf_vect.fit_transform(clean_tweets) # очищенные тексты"
   ]
  },
  {
   "cell_type": "code",
   "execution_count": 9,
   "id": "288fd68b",
   "metadata": {},
   "outputs": [],
   "source": [
    "tfidf_vect = TfidfVectorizer(stop_words=\"english\")\n",
    "\n",
    "X_no_prep = tfidf_vect.fit_transform(data_tweet[\"content\"]) # неочищенные тексты"
   ]
  },
  {
   "cell_type": "code",
   "execution_count": 10,
   "id": "9cd59c8d",
   "metadata": {},
   "outputs": [],
   "source": [
    "y = data_tweet[\"sentiment\"]"
   ]
  },
  {
   "cell_type": "markdown",
   "id": "e13cd198",
   "metadata": {},
   "source": [
    "### Training"
   ]
  },
  {
   "cell_type": "code",
   "execution_count": 11,
   "id": "bdd4b3a1",
   "metadata": {},
   "outputs": [
    {
     "name": "stdout",
     "output_type": "stream",
     "text": [
      "Value counts for Train sentiments\n",
      "neutral      6094\n",
      "other        6006\n",
      "worry        5995\n",
      "happiness    3619\n",
      "sadness      3605\n",
      "love         2681\n",
      "Name: sentiment, dtype: int64\n",
      "Value counts for Test sentiments\n",
      "other        2681\n",
      "neutral      2544\n",
      "worry        2464\n",
      "happiness    1590\n",
      "sadness      1560\n",
      "love         1161\n",
      "Name: sentiment, dtype: int64\n",
      "<class 'scipy.sparse.csr.csr_matrix'>\n",
      "<class 'pandas.core.series.Series'>\n"
     ]
    }
   ],
   "source": [
    "from sklearn.model_selection import train_test_split # с препроцессингом\n",
    "\n",
    "def split_train_test(data_tweet, test_size=0.3, shuffle_state=True):\n",
    "    X_train, X_test, y_train, y_test = train_test_split(X, y, \n",
    "                                                        shuffle=shuffle_state,\n",
    "                                                        test_size=test_size, \n",
    "                                                        random_state=15)\n",
    "    print(\"Value counts for Train sentiments\")\n",
    "    print(y_train.value_counts())\n",
    "    print(\"Value counts for Test sentiments\")\n",
    "    print(y_test.value_counts())\n",
    "    print(type(X_train))\n",
    "    print(type(y_train))\n",
    "    return X_train, X_test, y_train, y_test\n",
    "\n",
    "\n",
    "X_train, X_test, y_train, y_test = split_train_test(data_tweet)"
   ]
  },
  {
   "cell_type": "code",
   "execution_count": 12,
   "id": "c1225435",
   "metadata": {},
   "outputs": [
    {
     "name": "stdout",
     "output_type": "stream",
     "text": [
      "Value counts for Train sentiments\n",
      "neutral      6094\n",
      "other        6006\n",
      "worry        5995\n",
      "happiness    3619\n",
      "sadness      3605\n",
      "love         2681\n",
      "Name: sentiment, dtype: int64\n",
      "Value counts for Test sentiments\n",
      "other        2681\n",
      "neutral      2544\n",
      "worry        2464\n",
      "happiness    1590\n",
      "sadness      1560\n",
      "love         1161\n",
      "Name: sentiment, dtype: int64\n",
      "<class 'scipy.sparse.csr.csr_matrix'>\n",
      "<class 'pandas.core.series.Series'>\n"
     ]
    }
   ],
   "source": [
    "from sklearn.model_selection import train_test_split # без препроцессинга\n",
    "\n",
    "def split_train_test(data_tweet, test_size=0.3, shuffle_state=True):\n",
    "    X_train1, X_test1, y_train1, y_test1 = train_test_split(X_no_prep, y, \n",
    "                                                        shuffle=shuffle_state,\n",
    "                                                        test_size=test_size, \n",
    "                                                        random_state=15)\n",
    "    print(\"Value counts for Train sentiments\")\n",
    "    print(y_train1.value_counts())\n",
    "    print(\"Value counts for Test sentiments\")\n",
    "    print(y_test1.value_counts())\n",
    "    print(type(X_train1))\n",
    "    print(type(y_train1))\n",
    "    return X_train1, X_test1, y_train1, y_test1\n",
    "\n",
    "\n",
    "X_train1, X_test1, y_train1, y_test1 = split_train_test(data_tweet)"
   ]
  },
  {
   "cell_type": "markdown",
   "id": "85ab1810",
   "metadata": {},
   "source": [
    "### Исправление дисбаланса классов"
   ]
  },
  {
   "cell_type": "code",
   "execution_count": 13,
   "id": "b724f1f8",
   "metadata": {},
   "outputs": [],
   "source": [
    "import imblearn"
   ]
  },
  {
   "cell_type": "code",
   "execution_count": 14,
   "id": "a91081c8",
   "metadata": {},
   "outputs": [],
   "source": [
    "from imblearn.over_sampling import SMOTE"
   ]
  },
  {
   "cell_type": "code",
   "execution_count": 15,
   "id": "62e902d0",
   "metadata": {},
   "outputs": [],
   "source": [
    "sm = SMOTE(random_state = 2)\n",
    "X_train_res, y_train_res = sm.fit_resample(X_train, y_train.ravel()) # с препроцессингом"
   ]
  },
  {
   "cell_type": "code",
   "execution_count": 16,
   "id": "46a74953",
   "metadata": {},
   "outputs": [
    {
     "name": "stdout",
     "output_type": "stream",
     "text": [
      "After OverSampling, the shape of train_X: (36564, 45484)\n",
      "After OverSampling, the shape of train_y: (36564,) \n",
      "\n",
      "After OverSampling, counts of label 'neutral': 6094\n",
      "After OverSampling, counts of label 'other': 6094 \n",
      "\n",
      "After OverSampling, counts of label 'worry': 6094\n",
      "After OverSampling, counts of label 'happiness': 6094 \n",
      "\n",
      "After OverSampling, counts of label 'sadness': 6094\n",
      "After OverSampling, counts of label 'love': 6094 \n",
      "\n"
     ]
    }
   ],
   "source": [
    "print('After OverSampling, the shape of train_X: {}'.format(X_train_res.shape))\n",
    "\n",
    "print('After OverSampling, the shape of train_y: {} \\n'.format(y_train_res.shape))\n",
    "\n",
    "\n",
    "\n",
    "print(\"After OverSampling, counts of label 'neutral': {}\".format(sum(y_train_res == 'neutral')))\n",
    "\n",
    "print(\"After OverSampling, counts of label 'other': {} \\n\".format(sum(y_train_res == 'other')))\n",
    "\n",
    "print(\"After OverSampling, counts of label 'worry': {}\".format(sum(y_train_res == 'worry')))\n",
    "\n",
    "print(\"After OverSampling, counts of label 'happiness': {} \\n\".format(sum(y_train_res == 'happiness')))\n",
    "\n",
    "print(\"After OverSampling, counts of label 'sadness': {}\".format(sum(y_train_res == 'sadness')))\n",
    "\n",
    "print(\"After OverSampling, counts of label 'love': {} \\n\".format(sum(y_train_res == 'love')))"
   ]
  },
  {
   "cell_type": "code",
   "execution_count": 17,
   "id": "6756c990",
   "metadata": {},
   "outputs": [],
   "source": [
    "sm = SMOTE(random_state = 2)\n",
    "X_train_res1, y_train_res1 = sm.fit_resample(X_train1, y_train1.ravel()) # без препроцессинга"
   ]
  },
  {
   "cell_type": "markdown",
   "id": "80896210",
   "metadata": {},
   "source": [
    "### Naive Bayes"
   ]
  },
  {
   "cell_type": "code",
   "execution_count": 19,
   "id": "fec170ec",
   "metadata": {},
   "outputs": [
    {
     "name": "stdout",
     "output_type": "stream",
     "text": [
      "              precision    recall  f1-score   support\n",
      "\n",
      "   happiness       0.27      0.38      0.32      1590\n",
      "        love       0.29      0.56      0.38      1161\n",
      "     neutral       0.38      0.14      0.21      2544\n",
      "       other       0.30      0.20      0.24      2681\n",
      "     sadness       0.27      0.35      0.31      1560\n",
      "       worry       0.34      0.39      0.36      2464\n",
      "\n",
      "    accuracy                           0.30     12000\n",
      "   macro avg       0.31      0.34      0.30     12000\n",
      "weighted avg       0.32      0.30      0.29     12000\n",
      "\n"
     ]
    }
   ],
   "source": [
    "from sklearn.naive_bayes import MultinomialNB\n",
    "from sklearn.metrics import classification_report\n",
    "from sklearn import metrics\n",
    "clf = MultinomialNB(alpha = 2.2).fit(X_train_res, y_train_res) # с препроцессингом\n",
    "y_predicted = clf.predict(X_test) \n",
    "print(classification_report(y_test, y_predicted))"
   ]
  },
  {
   "cell_type": "code",
   "execution_count": 53,
   "id": "149a391f",
   "metadata": {},
   "outputs": [
    {
     "data": {
      "text/html": [
       "<div>\n",
       "<style scoped>\n",
       "    .dataframe tbody tr th:only-of-type {\n",
       "        vertical-align: middle;\n",
       "    }\n",
       "\n",
       "    .dataframe tbody tr th {\n",
       "        vertical-align: top;\n",
       "    }\n",
       "\n",
       "    .dataframe thead th {\n",
       "        text-align: right;\n",
       "    }\n",
       "</style>\n",
       "<table border=\"1\" class=\"dataframe\">\n",
       "  <thead>\n",
       "    <tr style=\"text-align: right;\">\n",
       "      <th></th>\n",
       "      <th>Predicted happiness</th>\n",
       "      <th>Predicted love</th>\n",
       "      <th>Predicted neutral</th>\n",
       "      <th>Predicted other</th>\n",
       "      <th>Predicted sadness</th>\n",
       "      <th>Predicted worry</th>\n",
       "    </tr>\n",
       "  </thead>\n",
       "  <tbody>\n",
       "    <tr>\n",
       "      <th>Actual happiness</th>\n",
       "      <td>611</td>\n",
       "      <td>425</td>\n",
       "      <td>93</td>\n",
       "      <td>211</td>\n",
       "      <td>79</td>\n",
       "      <td>171</td>\n",
       "    </tr>\n",
       "    <tr>\n",
       "      <th>Actual love</th>\n",
       "      <td>223</td>\n",
       "      <td>647</td>\n",
       "      <td>41</td>\n",
       "      <td>89</td>\n",
       "      <td>72</td>\n",
       "      <td>89</td>\n",
       "    </tr>\n",
       "    <tr>\n",
       "      <th>Actual neutral</th>\n",
       "      <td>472</td>\n",
       "      <td>355</td>\n",
       "      <td>360</td>\n",
       "      <td>410</td>\n",
       "      <td>383</td>\n",
       "      <td>564</td>\n",
       "    </tr>\n",
       "    <tr>\n",
       "      <th>Actual other</th>\n",
       "      <td>517</td>\n",
       "      <td>422</td>\n",
       "      <td>205</td>\n",
       "      <td>526</td>\n",
       "      <td>419</td>\n",
       "      <td>592</td>\n",
       "    </tr>\n",
       "    <tr>\n",
       "      <th>Actual sadness</th>\n",
       "      <td>148</td>\n",
       "      <td>148</td>\n",
       "      <td>78</td>\n",
       "      <td>196</td>\n",
       "      <td>552</td>\n",
       "      <td>438</td>\n",
       "    </tr>\n",
       "    <tr>\n",
       "      <th>Actual worry</th>\n",
       "      <td>285</td>\n",
       "      <td>246</td>\n",
       "      <td>160</td>\n",
       "      <td>303</td>\n",
       "      <td>519</td>\n",
       "      <td>951</td>\n",
       "    </tr>\n",
       "  </tbody>\n",
       "</table>\n",
       "</div>"
      ],
      "text/plain": [
       "                  Predicted happiness  Predicted love  Predicted neutral  \\\n",
       "Actual happiness                  611             425                 93   \n",
       "Actual love                       223             647                 41   \n",
       "Actual neutral                    472             355                360   \n",
       "Actual other                      517             422                205   \n",
       "Actual sadness                    148             148                 78   \n",
       "Actual worry                      285             246                160   \n",
       "\n",
       "                  Predicted other  Predicted sadness  Predicted worry  \n",
       "Actual happiness              211                 79              171  \n",
       "Actual love                    89                 72               89  \n",
       "Actual neutral                410                383              564  \n",
       "Actual other                  526                419              592  \n",
       "Actual sadness                196                552              438  \n",
       "Actual worry                  303                519              951  "
      ]
     },
     "execution_count": 53,
     "metadata": {},
     "output_type": "execute_result"
    }
   ],
   "source": [
    "m_confusion_test = metrics.confusion_matrix(y_test, y_predicted)\n",
    "\n",
    "\n",
    "pd.DataFrame(data = m_confusion_test, columns = ['Predicted happiness', 'Predicted love', 'Predicted neutral', \n",
    "                                                 'Predicted other', 'Predicted sadness', 'Predicted worry'],\n",
    "            index = ['Actual happiness', 'Actual love', 'Actual neutral', \n",
    "                                                 'Actual other', 'Actual sadness', 'Actual worry'])"
   ]
  },
  {
   "cell_type": "markdown",
   "id": "bf3b7eaf",
   "metadata": {},
   "source": [
    "### Decision Tree"
   ]
  },
  {
   "cell_type": "code",
   "execution_count": 25,
   "id": "59bec73b",
   "metadata": {},
   "outputs": [],
   "source": [
    "from sklearn.tree import DecisionTreeClassifier\n",
    "from sklearn.metrics import classification_report"
   ]
  },
  {
   "cell_type": "code",
   "execution_count": 26,
   "id": "d8f78604",
   "metadata": {},
   "outputs": [],
   "source": [
    "tree_clf = DecisionTreeClassifier().fit(X_train_res1, y_train_res1) # без препроцессинга\n",
    "tree_y_pred = tree_clf.predict(X_test1)"
   ]
  },
  {
   "cell_type": "code",
   "execution_count": 27,
   "id": "51d69eb8",
   "metadata": {},
   "outputs": [
    {
     "name": "stdout",
     "output_type": "stream",
     "text": [
      "              precision    recall  f1-score   support\n",
      "\n",
      "   happiness       0.26      0.23      0.24      1590\n",
      "        love       0.38      0.36      0.37      1161\n",
      "     neutral       0.33      0.41      0.37      2544\n",
      "       other       0.28      0.26      0.27      2681\n",
      "     sadness       0.26      0.24      0.25      1560\n",
      "       worry       0.28      0.28      0.28      2464\n",
      "\n",
      "    accuracy                           0.30     12000\n",
      "   macro avg       0.30      0.29      0.29     12000\n",
      "weighted avg       0.29      0.30      0.29     12000\n",
      "\n"
     ]
    }
   ],
   "source": [
    "print(classification_report(y_test1, tree_y_pred, zero_division=0))"
   ]
  },
  {
   "cell_type": "code",
   "execution_count": 54,
   "id": "bf848d11",
   "metadata": {},
   "outputs": [
    {
     "data": {
      "text/html": [
       "<div>\n",
       "<style scoped>\n",
       "    .dataframe tbody tr th:only-of-type {\n",
       "        vertical-align: middle;\n",
       "    }\n",
       "\n",
       "    .dataframe tbody tr th {\n",
       "        vertical-align: top;\n",
       "    }\n",
       "\n",
       "    .dataframe thead th {\n",
       "        text-align: right;\n",
       "    }\n",
       "</style>\n",
       "<table border=\"1\" class=\"dataframe\">\n",
       "  <thead>\n",
       "    <tr style=\"text-align: right;\">\n",
       "      <th></th>\n",
       "      <th>Predicted happiness</th>\n",
       "      <th>Predicted love</th>\n",
       "      <th>Predicted neutral</th>\n",
       "      <th>Predicted other</th>\n",
       "      <th>Predicted sadness</th>\n",
       "      <th>Predicted worry</th>\n",
       "    </tr>\n",
       "  </thead>\n",
       "  <tbody>\n",
       "    <tr>\n",
       "      <th>Actual happiness</th>\n",
       "      <td>408</td>\n",
       "      <td>194</td>\n",
       "      <td>308</td>\n",
       "      <td>356</td>\n",
       "      <td>109</td>\n",
       "      <td>215</td>\n",
       "    </tr>\n",
       "    <tr>\n",
       "      <th>Actual love</th>\n",
       "      <td>224</td>\n",
       "      <td>427</td>\n",
       "      <td>174</td>\n",
       "      <td>165</td>\n",
       "      <td>69</td>\n",
       "      <td>102</td>\n",
       "    </tr>\n",
       "    <tr>\n",
       "      <th>Actual neutral</th>\n",
       "      <td>271</td>\n",
       "      <td>116</td>\n",
       "      <td>1061</td>\n",
       "      <td>454</td>\n",
       "      <td>203</td>\n",
       "      <td>439</td>\n",
       "    </tr>\n",
       "    <tr>\n",
       "      <th>Actual other</th>\n",
       "      <td>363</td>\n",
       "      <td>188</td>\n",
       "      <td>678</td>\n",
       "      <td>680</td>\n",
       "      <td>279</td>\n",
       "      <td>493</td>\n",
       "    </tr>\n",
       "    <tr>\n",
       "      <th>Actual sadness</th>\n",
       "      <td>116</td>\n",
       "      <td>85</td>\n",
       "      <td>263</td>\n",
       "      <td>264</td>\n",
       "      <td>406</td>\n",
       "      <td>426</td>\n",
       "    </tr>\n",
       "    <tr>\n",
       "      <th>Actual worry</th>\n",
       "      <td>210</td>\n",
       "      <td>128</td>\n",
       "      <td>580</td>\n",
       "      <td>434</td>\n",
       "      <td>419</td>\n",
       "      <td>693</td>\n",
       "    </tr>\n",
       "  </tbody>\n",
       "</table>\n",
       "</div>"
      ],
      "text/plain": [
       "                  Predicted happiness  Predicted love  Predicted neutral  \\\n",
       "Actual happiness                  408             194                308   \n",
       "Actual love                       224             427                174   \n",
       "Actual neutral                    271             116               1061   \n",
       "Actual other                      363             188                678   \n",
       "Actual sadness                    116              85                263   \n",
       "Actual worry                      210             128                580   \n",
       "\n",
       "                  Predicted other  Predicted sadness  Predicted worry  \n",
       "Actual happiness              356                109              215  \n",
       "Actual love                   165                 69              102  \n",
       "Actual neutral                454                203              439  \n",
       "Actual other                  680                279              493  \n",
       "Actual sadness                264                406              426  \n",
       "Actual worry                  434                419              693  "
      ]
     },
     "execution_count": 54,
     "metadata": {},
     "output_type": "execute_result"
    }
   ],
   "source": [
    "m_confusion_test = metrics.confusion_matrix(y_test1, tree_y_pred)\n",
    "\n",
    "\n",
    "pd.DataFrame(data = m_confusion_test, columns = ['Predicted happiness', 'Predicted love', 'Predicted neutral', \n",
    "                                                 'Predicted other', 'Predicted sadness', 'Predicted worry'],\n",
    "            index = ['Actual happiness', 'Actual love', 'Actual neutral', \n",
    "                                                 'Actual other', 'Actual sadness', 'Actual worry'])"
   ]
  },
  {
   "cell_type": "code",
   "execution_count": 56,
   "id": "1f8dc350",
   "metadata": {},
   "outputs": [],
   "source": [
    "tree_clf = DecisionTreeClassifier().fit(X_train_res, y_train_res) # с препроцессингом\n",
    "tree_y_pred1 = tree_clf.predict(X_test)"
   ]
  },
  {
   "cell_type": "code",
   "execution_count": 57,
   "id": "25369ec0",
   "metadata": {},
   "outputs": [
    {
     "name": "stdout",
     "output_type": "stream",
     "text": [
      "              precision    recall  f1-score   support\n",
      "\n",
      "   happiness       0.26      0.27      0.27      1590\n",
      "        love       0.38      0.37      0.37      1161\n",
      "     neutral       0.34      0.40      0.37      2544\n",
      "       other       0.28      0.25      0.27      2681\n",
      "     sadness       0.27      0.26      0.26      1560\n",
      "       worry       0.29      0.29      0.29      2464\n",
      "\n",
      "    accuracy                           0.30     12000\n",
      "   macro avg       0.30      0.30      0.30     12000\n",
      "weighted avg       0.30      0.30      0.30     12000\n",
      "\n"
     ]
    }
   ],
   "source": [
    "print(classification_report(y_test, tree_y_pred1, zero_division=0))"
   ]
  },
  {
   "cell_type": "code",
   "execution_count": 58,
   "id": "06c88c94",
   "metadata": {},
   "outputs": [
    {
     "data": {
      "text/html": [
       "<div>\n",
       "<style scoped>\n",
       "    .dataframe tbody tr th:only-of-type {\n",
       "        vertical-align: middle;\n",
       "    }\n",
       "\n",
       "    .dataframe tbody tr th {\n",
       "        vertical-align: top;\n",
       "    }\n",
       "\n",
       "    .dataframe thead th {\n",
       "        text-align: right;\n",
       "    }\n",
       "</style>\n",
       "<table border=\"1\" class=\"dataframe\">\n",
       "  <thead>\n",
       "    <tr style=\"text-align: right;\">\n",
       "      <th></th>\n",
       "      <th>Predicted happiness</th>\n",
       "      <th>Predicted love</th>\n",
       "      <th>Predicted neutral</th>\n",
       "      <th>Predicted other</th>\n",
       "      <th>Predicted sadness</th>\n",
       "      <th>Predicted worry</th>\n",
       "    </tr>\n",
       "  </thead>\n",
       "  <tbody>\n",
       "    <tr>\n",
       "      <th>Actual happiness</th>\n",
       "      <td>424</td>\n",
       "      <td>186</td>\n",
       "      <td>296</td>\n",
       "      <td>367</td>\n",
       "      <td>105</td>\n",
       "      <td>212</td>\n",
       "    </tr>\n",
       "    <tr>\n",
       "      <th>Actual love</th>\n",
       "      <td>221</td>\n",
       "      <td>427</td>\n",
       "      <td>162</td>\n",
       "      <td>162</td>\n",
       "      <td>76</td>\n",
       "      <td>113</td>\n",
       "    </tr>\n",
       "    <tr>\n",
       "      <th>Actual neutral</th>\n",
       "      <td>277</td>\n",
       "      <td>132</td>\n",
       "      <td>1022</td>\n",
       "      <td>445</td>\n",
       "      <td>220</td>\n",
       "      <td>448</td>\n",
       "    </tr>\n",
       "    <tr>\n",
       "      <th>Actual other</th>\n",
       "      <td>370</td>\n",
       "      <td>187</td>\n",
       "      <td>676</td>\n",
       "      <td>668</td>\n",
       "      <td>285</td>\n",
       "      <td>495</td>\n",
       "    </tr>\n",
       "    <tr>\n",
       "      <th>Actual sadness</th>\n",
       "      <td>120</td>\n",
       "      <td>83</td>\n",
       "      <td>246</td>\n",
       "      <td>253</td>\n",
       "      <td>402</td>\n",
       "      <td>456</td>\n",
       "    </tr>\n",
       "    <tr>\n",
       "      <th>Actual worry</th>\n",
       "      <td>195</td>\n",
       "      <td>123</td>\n",
       "      <td>562</td>\n",
       "      <td>456</td>\n",
       "      <td>422</td>\n",
       "      <td>706</td>\n",
       "    </tr>\n",
       "  </tbody>\n",
       "</table>\n",
       "</div>"
      ],
      "text/plain": [
       "                  Predicted happiness  Predicted love  Predicted neutral  \\\n",
       "Actual happiness                  424             186                296   \n",
       "Actual love                       221             427                162   \n",
       "Actual neutral                    277             132               1022   \n",
       "Actual other                      370             187                676   \n",
       "Actual sadness                    120              83                246   \n",
       "Actual worry                      195             123                562   \n",
       "\n",
       "                  Predicted other  Predicted sadness  Predicted worry  \n",
       "Actual happiness              367                105              212  \n",
       "Actual love                   162                 76              113  \n",
       "Actual neutral                445                220              448  \n",
       "Actual other                  668                285              495  \n",
       "Actual sadness                253                402              456  \n",
       "Actual worry                  456                422              706  "
      ]
     },
     "execution_count": 58,
     "metadata": {},
     "output_type": "execute_result"
    }
   ],
   "source": [
    "m_confusion_test = metrics.confusion_matrix(y_test, tree_y_pred1)\n",
    "\n",
    "\n",
    "pd.DataFrame(data = m_confusion_test, columns = ['Predicted happiness', 'Predicted love', 'Predicted neutral', \n",
    "                                                 'Predicted other', 'Predicted sadness', 'Predicted worry'],\n",
    "            index = ['Actual happiness', 'Actual love', 'Actual neutral', \n",
    "                                                 'Actual other', 'Actual sadness', 'Actual worry'])"
   ]
  },
  {
   "cell_type": "markdown",
   "id": "d847058f",
   "metadata": {},
   "source": [
    "### Random Forest"
   ]
  },
  {
   "cell_type": "code",
   "execution_count": 30,
   "id": "4b9c5af4",
   "metadata": {},
   "outputs": [],
   "source": [
    "from sklearn.ensemble import RandomForestClassifier"
   ]
  },
  {
   "cell_type": "code",
   "execution_count": 31,
   "id": "55935e70",
   "metadata": {},
   "outputs": [
    {
     "name": "stdout",
     "output_type": "stream",
     "text": [
      "              precision    recall  f1-score   support\n",
      "\n",
      "   happiness       0.30      0.34      0.32      1590\n",
      "        love       0.40      0.48      0.44      1161\n",
      "     neutral       0.32      0.56      0.41      2544\n",
      "       other       0.31      0.12      0.18      2681\n",
      "     sadness       0.32      0.33      0.32      1560\n",
      "       worry       0.35      0.23      0.28      2464\n",
      "\n",
      "    accuracy                           0.33     12000\n",
      "   macro avg       0.33      0.35      0.32     12000\n",
      "weighted avg       0.33      0.33      0.31     12000\n",
      "\n"
     ]
    }
   ],
   "source": [
    "rf = RandomForestClassifier(n_estimators=100, max_depth=20)\n",
    "rf.fit(X_train_res1, y_train_res1) # без препроцессинга\n",
    "\n",
    "preds = rf.predict(X_test1)\n",
    "\n",
    "print(classification_report(y_test1, preds, zero_division=0))"
   ]
  },
  {
   "cell_type": "code",
   "execution_count": 59,
   "id": "48b07926",
   "metadata": {},
   "outputs": [
    {
     "data": {
      "text/html": [
       "<div>\n",
       "<style scoped>\n",
       "    .dataframe tbody tr th:only-of-type {\n",
       "        vertical-align: middle;\n",
       "    }\n",
       "\n",
       "    .dataframe tbody tr th {\n",
       "        vertical-align: top;\n",
       "    }\n",
       "\n",
       "    .dataframe thead th {\n",
       "        text-align: right;\n",
       "    }\n",
       "</style>\n",
       "<table border=\"1\" class=\"dataframe\">\n",
       "  <thead>\n",
       "    <tr style=\"text-align: right;\">\n",
       "      <th></th>\n",
       "      <th>Predicted happiness</th>\n",
       "      <th>Predicted love</th>\n",
       "      <th>Predicted neutral</th>\n",
       "      <th>Predicted other</th>\n",
       "      <th>Predicted sadness</th>\n",
       "      <th>Predicted worry</th>\n",
       "    </tr>\n",
       "  </thead>\n",
       "  <tbody>\n",
       "    <tr>\n",
       "      <th>Actual happiness</th>\n",
       "      <td>537</td>\n",
       "      <td>265</td>\n",
       "      <td>451</td>\n",
       "      <td>144</td>\n",
       "      <td>85</td>\n",
       "      <td>108</td>\n",
       "    </tr>\n",
       "    <tr>\n",
       "      <th>Actual love</th>\n",
       "      <td>225</td>\n",
       "      <td>561</td>\n",
       "      <td>214</td>\n",
       "      <td>48</td>\n",
       "      <td>62</td>\n",
       "      <td>51</td>\n",
       "    </tr>\n",
       "    <tr>\n",
       "      <th>Actual neutral</th>\n",
       "      <td>269</td>\n",
       "      <td>148</td>\n",
       "      <td>1429</td>\n",
       "      <td>197</td>\n",
       "      <td>188</td>\n",
       "      <td>313</td>\n",
       "    </tr>\n",
       "    <tr>\n",
       "      <th>Actual other</th>\n",
       "      <td>449</td>\n",
       "      <td>209</td>\n",
       "      <td>1054</td>\n",
       "      <td>334</td>\n",
       "      <td>318</td>\n",
       "      <td>317</td>\n",
       "    </tr>\n",
       "    <tr>\n",
       "      <th>Actual sadness</th>\n",
       "      <td>95</td>\n",
       "      <td>99</td>\n",
       "      <td>443</td>\n",
       "      <td>118</td>\n",
       "      <td>518</td>\n",
       "      <td>287</td>\n",
       "    </tr>\n",
       "    <tr>\n",
       "      <th>Actual worry</th>\n",
       "      <td>214</td>\n",
       "      <td>128</td>\n",
       "      <td>846</td>\n",
       "      <td>232</td>\n",
       "      <td>469</td>\n",
       "      <td>575</td>\n",
       "    </tr>\n",
       "  </tbody>\n",
       "</table>\n",
       "</div>"
      ],
      "text/plain": [
       "                  Predicted happiness  Predicted love  Predicted neutral  \\\n",
       "Actual happiness                  537             265                451   \n",
       "Actual love                       225             561                214   \n",
       "Actual neutral                    269             148               1429   \n",
       "Actual other                      449             209               1054   \n",
       "Actual sadness                     95              99                443   \n",
       "Actual worry                      214             128                846   \n",
       "\n",
       "                  Predicted other  Predicted sadness  Predicted worry  \n",
       "Actual happiness              144                 85              108  \n",
       "Actual love                    48                 62               51  \n",
       "Actual neutral                197                188              313  \n",
       "Actual other                  334                318              317  \n",
       "Actual sadness                118                518              287  \n",
       "Actual worry                  232                469              575  "
      ]
     },
     "execution_count": 59,
     "metadata": {},
     "output_type": "execute_result"
    }
   ],
   "source": [
    "m_confusion_test = metrics.confusion_matrix(y_test1, preds)\n",
    "\n",
    "\n",
    "pd.DataFrame(data = m_confusion_test, columns = ['Predicted happiness', 'Predicted love', 'Predicted neutral', \n",
    "                                                 'Predicted other', 'Predicted sadness', 'Predicted worry'],\n",
    "            index = ['Actual happiness', 'Actual love', 'Actual neutral', \n",
    "                                                 'Actual other', 'Actual sadness', 'Actual worry'])"
   ]
  },
  {
   "cell_type": "markdown",
   "id": "5d08c33f",
   "metadata": {},
   "source": [
    "### Support Vector Machines"
   ]
  },
  {
   "cell_type": "code",
   "execution_count": 33,
   "id": "0b4c7282",
   "metadata": {},
   "outputs": [],
   "source": [
    "from sklearn.svm import SVC"
   ]
  },
  {
   "cell_type": "code",
   "execution_count": 35,
   "id": "d34e756f",
   "metadata": {},
   "outputs": [
    {
     "data": {
      "text/html": [
       "<style>#sk-container-id-2 {color: black;background-color: white;}#sk-container-id-2 pre{padding: 0;}#sk-container-id-2 div.sk-toggleable {background-color: white;}#sk-container-id-2 label.sk-toggleable__label {cursor: pointer;display: block;width: 100%;margin-bottom: 0;padding: 0.3em;box-sizing: border-box;text-align: center;}#sk-container-id-2 label.sk-toggleable__label-arrow:before {content: \"▸\";float: left;margin-right: 0.25em;color: #696969;}#sk-container-id-2 label.sk-toggleable__label-arrow:hover:before {color: black;}#sk-container-id-2 div.sk-estimator:hover label.sk-toggleable__label-arrow:before {color: black;}#sk-container-id-2 div.sk-toggleable__content {max-height: 0;max-width: 0;overflow: hidden;text-align: left;background-color: #f0f8ff;}#sk-container-id-2 div.sk-toggleable__content pre {margin: 0.2em;color: black;border-radius: 0.25em;background-color: #f0f8ff;}#sk-container-id-2 input.sk-toggleable__control:checked~div.sk-toggleable__content {max-height: 200px;max-width: 100%;overflow: auto;}#sk-container-id-2 input.sk-toggleable__control:checked~label.sk-toggleable__label-arrow:before {content: \"▾\";}#sk-container-id-2 div.sk-estimator input.sk-toggleable__control:checked~label.sk-toggleable__label {background-color: #d4ebff;}#sk-container-id-2 div.sk-label input.sk-toggleable__control:checked~label.sk-toggleable__label {background-color: #d4ebff;}#sk-container-id-2 input.sk-hidden--visually {border: 0;clip: rect(1px 1px 1px 1px);clip: rect(1px, 1px, 1px, 1px);height: 1px;margin: -1px;overflow: hidden;padding: 0;position: absolute;width: 1px;}#sk-container-id-2 div.sk-estimator {font-family: monospace;background-color: #f0f8ff;border: 1px dotted black;border-radius: 0.25em;box-sizing: border-box;margin-bottom: 0.5em;}#sk-container-id-2 div.sk-estimator:hover {background-color: #d4ebff;}#sk-container-id-2 div.sk-parallel-item::after {content: \"\";width: 100%;border-bottom: 1px solid gray;flex-grow: 1;}#sk-container-id-2 div.sk-label:hover label.sk-toggleable__label {background-color: #d4ebff;}#sk-container-id-2 div.sk-serial::before {content: \"\";position: absolute;border-left: 1px solid gray;box-sizing: border-box;top: 0;bottom: 0;left: 50%;z-index: 0;}#sk-container-id-2 div.sk-serial {display: flex;flex-direction: column;align-items: center;background-color: white;padding-right: 0.2em;padding-left: 0.2em;position: relative;}#sk-container-id-2 div.sk-item {position: relative;z-index: 1;}#sk-container-id-2 div.sk-parallel {display: flex;align-items: stretch;justify-content: center;background-color: white;position: relative;}#sk-container-id-2 div.sk-item::before, #sk-container-id-2 div.sk-parallel-item::before {content: \"\";position: absolute;border-left: 1px solid gray;box-sizing: border-box;top: 0;bottom: 0;left: 50%;z-index: -1;}#sk-container-id-2 div.sk-parallel-item {display: flex;flex-direction: column;z-index: 1;position: relative;background-color: white;}#sk-container-id-2 div.sk-parallel-item:first-child::after {align-self: flex-end;width: 50%;}#sk-container-id-2 div.sk-parallel-item:last-child::after {align-self: flex-start;width: 50%;}#sk-container-id-2 div.sk-parallel-item:only-child::after {width: 0;}#sk-container-id-2 div.sk-dashed-wrapped {border: 1px dashed gray;margin: 0 0.4em 0.5em 0.4em;box-sizing: border-box;padding-bottom: 0.4em;background-color: white;}#sk-container-id-2 div.sk-label label {font-family: monospace;font-weight: bold;display: inline-block;line-height: 1.2em;}#sk-container-id-2 div.sk-label-container {text-align: center;}#sk-container-id-2 div.sk-container {/* jupyter's `normalize.less` sets `[hidden] { display: none; }` but bootstrap.min.css set `[hidden] { display: none !important; }` so we also need the `!important` here to be able to override the default hidden behavior on the sphinx rendered scikit-learn.org. See: https://github.com/scikit-learn/scikit-learn/issues/21755 */display: inline-block !important;position: relative;}#sk-container-id-2 div.sk-text-repr-fallback {display: none;}</style><div id=\"sk-container-id-2\" class=\"sk-top-container\"><div class=\"sk-text-repr-fallback\"><pre>SVC()</pre><b>In a Jupyter environment, please rerun this cell to show the HTML representation or trust the notebook. <br />On GitHub, the HTML representation is unable to render, please try loading this page with nbviewer.org.</b></div><div class=\"sk-container\" hidden><div class=\"sk-item\"><div class=\"sk-estimator sk-toggleable\"><input class=\"sk-toggleable__control sk-hidden--visually\" id=\"sk-estimator-id-2\" type=\"checkbox\" checked><label for=\"sk-estimator-id-2\" class=\"sk-toggleable__label sk-toggleable__label-arrow\">SVC</label><div class=\"sk-toggleable__content\"><pre>SVC()</pre></div></div></div></div></div>"
      ],
      "text/plain": [
       "SVC()"
      ]
     },
     "execution_count": 35,
     "metadata": {},
     "output_type": "execute_result"
    }
   ],
   "source": [
    "model = SVC()\n",
    "model.fit(X_train_res, y_train_res) # с препроцессингом"
   ]
  },
  {
   "cell_type": "code",
   "execution_count": 36,
   "id": "514ec8af",
   "metadata": {},
   "outputs": [
    {
     "name": "stdout",
     "output_type": "stream",
     "text": [
      "              precision    recall  f1-score   support\n",
      "\n",
      "   happiness       0.21      0.34      0.26      1000\n",
      "        love       0.37      0.50      0.42       846\n",
      "     neutral       0.54      0.33      0.41      4199\n",
      "       other       0.30      0.30      0.30      2656\n",
      "     sadness       0.18      0.39      0.24       714\n",
      "       worry       0.37      0.35      0.36      2585\n",
      "\n",
      "    accuracy                           0.34     12000\n",
      "   macro avg       0.33      0.37      0.33     12000\n",
      "weighted avg       0.39      0.34      0.35     12000\n",
      "\n"
     ]
    }
   ],
   "source": [
    "pred_svm = model.predict(X_test)\n",
    "print(classification_report(pred_svm, y_test, zero_division=0))"
   ]
  },
  {
   "cell_type": "code",
   "execution_count": 60,
   "id": "457e86e0",
   "metadata": {},
   "outputs": [
    {
     "data": {
      "text/html": [
       "<div>\n",
       "<style scoped>\n",
       "    .dataframe tbody tr th:only-of-type {\n",
       "        vertical-align: middle;\n",
       "    }\n",
       "\n",
       "    .dataframe tbody tr th {\n",
       "        vertical-align: top;\n",
       "    }\n",
       "\n",
       "    .dataframe thead th {\n",
       "        text-align: right;\n",
       "    }\n",
       "</style>\n",
       "<table border=\"1\" class=\"dataframe\">\n",
       "  <thead>\n",
       "    <tr style=\"text-align: right;\">\n",
       "      <th></th>\n",
       "      <th>Predicted happiness</th>\n",
       "      <th>Predicted love</th>\n",
       "      <th>Predicted neutral</th>\n",
       "      <th>Predicted other</th>\n",
       "      <th>Predicted sadness</th>\n",
       "      <th>Predicted worry</th>\n",
       "    </tr>\n",
       "  </thead>\n",
       "  <tbody>\n",
       "    <tr>\n",
       "      <th>Actual happiness</th>\n",
       "      <td>352</td>\n",
       "      <td>130</td>\n",
       "      <td>497</td>\n",
       "      <td>422</td>\n",
       "      <td>26</td>\n",
       "      <td>163</td>\n",
       "    </tr>\n",
       "    <tr>\n",
       "      <th>Actual love</th>\n",
       "      <td>174</td>\n",
       "      <td>407</td>\n",
       "      <td>267</td>\n",
       "      <td>194</td>\n",
       "      <td>32</td>\n",
       "      <td>87</td>\n",
       "    </tr>\n",
       "    <tr>\n",
       "      <th>Actual neutral</th>\n",
       "      <td>149</td>\n",
       "      <td>55</td>\n",
       "      <td>1362</td>\n",
       "      <td>475</td>\n",
       "      <td>83</td>\n",
       "      <td>420</td>\n",
       "    </tr>\n",
       "    <tr>\n",
       "      <th>Actual other</th>\n",
       "      <td>231</td>\n",
       "      <td>94</td>\n",
       "      <td>944</td>\n",
       "      <td>827</td>\n",
       "      <td>87</td>\n",
       "      <td>498</td>\n",
       "    </tr>\n",
       "    <tr>\n",
       "      <th>Actual sadness</th>\n",
       "      <td>47</td>\n",
       "      <td>54</td>\n",
       "      <td>382</td>\n",
       "      <td>297</td>\n",
       "      <td>270</td>\n",
       "      <td>510</td>\n",
       "    </tr>\n",
       "    <tr>\n",
       "      <th>Actual worry</th>\n",
       "      <td>87</td>\n",
       "      <td>60</td>\n",
       "      <td>729</td>\n",
       "      <td>459</td>\n",
       "      <td>202</td>\n",
       "      <td>927</td>\n",
       "    </tr>\n",
       "  </tbody>\n",
       "</table>\n",
       "</div>"
      ],
      "text/plain": [
       "                  Predicted happiness  Predicted love  Predicted neutral  \\\n",
       "Actual happiness                  352             130                497   \n",
       "Actual love                       174             407                267   \n",
       "Actual neutral                    149              55               1362   \n",
       "Actual other                      231              94                944   \n",
       "Actual sadness                     47              54                382   \n",
       "Actual worry                       87              60                729   \n",
       "\n",
       "                  Predicted other  Predicted sadness  Predicted worry  \n",
       "Actual happiness              422                 26              163  \n",
       "Actual love                   194                 32               87  \n",
       "Actual neutral                475                 83              420  \n",
       "Actual other                  827                 87              498  \n",
       "Actual sadness                297                270              510  \n",
       "Actual worry                  459                202              927  "
      ]
     },
     "execution_count": 60,
     "metadata": {},
     "output_type": "execute_result"
    }
   ],
   "source": [
    "m_confusion_test = metrics.confusion_matrix(y_test, pred_svm)\n",
    "\n",
    "\n",
    "pd.DataFrame(data = m_confusion_test, columns = ['Predicted happiness', 'Predicted love', 'Predicted neutral', \n",
    "                                                 'Predicted other', 'Predicted sadness', 'Predicted worry'],\n",
    "            index = ['Actual happiness', 'Actual love', 'Actual neutral', \n",
    "                                                 'Actual other', 'Actual sadness', 'Actual worry'])"
   ]
  },
  {
   "cell_type": "code",
   "execution_count": 37,
   "id": "cbc5b2ca",
   "metadata": {},
   "outputs": [
    {
     "data": {
      "text/html": [
       "<style>#sk-container-id-3 {color: black;background-color: white;}#sk-container-id-3 pre{padding: 0;}#sk-container-id-3 div.sk-toggleable {background-color: white;}#sk-container-id-3 label.sk-toggleable__label {cursor: pointer;display: block;width: 100%;margin-bottom: 0;padding: 0.3em;box-sizing: border-box;text-align: center;}#sk-container-id-3 label.sk-toggleable__label-arrow:before {content: \"▸\";float: left;margin-right: 0.25em;color: #696969;}#sk-container-id-3 label.sk-toggleable__label-arrow:hover:before {color: black;}#sk-container-id-3 div.sk-estimator:hover label.sk-toggleable__label-arrow:before {color: black;}#sk-container-id-3 div.sk-toggleable__content {max-height: 0;max-width: 0;overflow: hidden;text-align: left;background-color: #f0f8ff;}#sk-container-id-3 div.sk-toggleable__content pre {margin: 0.2em;color: black;border-radius: 0.25em;background-color: #f0f8ff;}#sk-container-id-3 input.sk-toggleable__control:checked~div.sk-toggleable__content {max-height: 200px;max-width: 100%;overflow: auto;}#sk-container-id-3 input.sk-toggleable__control:checked~label.sk-toggleable__label-arrow:before {content: \"▾\";}#sk-container-id-3 div.sk-estimator input.sk-toggleable__control:checked~label.sk-toggleable__label {background-color: #d4ebff;}#sk-container-id-3 div.sk-label input.sk-toggleable__control:checked~label.sk-toggleable__label {background-color: #d4ebff;}#sk-container-id-3 input.sk-hidden--visually {border: 0;clip: rect(1px 1px 1px 1px);clip: rect(1px, 1px, 1px, 1px);height: 1px;margin: -1px;overflow: hidden;padding: 0;position: absolute;width: 1px;}#sk-container-id-3 div.sk-estimator {font-family: monospace;background-color: #f0f8ff;border: 1px dotted black;border-radius: 0.25em;box-sizing: border-box;margin-bottom: 0.5em;}#sk-container-id-3 div.sk-estimator:hover {background-color: #d4ebff;}#sk-container-id-3 div.sk-parallel-item::after {content: \"\";width: 100%;border-bottom: 1px solid gray;flex-grow: 1;}#sk-container-id-3 div.sk-label:hover label.sk-toggleable__label {background-color: #d4ebff;}#sk-container-id-3 div.sk-serial::before {content: \"\";position: absolute;border-left: 1px solid gray;box-sizing: border-box;top: 0;bottom: 0;left: 50%;z-index: 0;}#sk-container-id-3 div.sk-serial {display: flex;flex-direction: column;align-items: center;background-color: white;padding-right: 0.2em;padding-left: 0.2em;position: relative;}#sk-container-id-3 div.sk-item {position: relative;z-index: 1;}#sk-container-id-3 div.sk-parallel {display: flex;align-items: stretch;justify-content: center;background-color: white;position: relative;}#sk-container-id-3 div.sk-item::before, #sk-container-id-3 div.sk-parallel-item::before {content: \"\";position: absolute;border-left: 1px solid gray;box-sizing: border-box;top: 0;bottom: 0;left: 50%;z-index: -1;}#sk-container-id-3 div.sk-parallel-item {display: flex;flex-direction: column;z-index: 1;position: relative;background-color: white;}#sk-container-id-3 div.sk-parallel-item:first-child::after {align-self: flex-end;width: 50%;}#sk-container-id-3 div.sk-parallel-item:last-child::after {align-self: flex-start;width: 50%;}#sk-container-id-3 div.sk-parallel-item:only-child::after {width: 0;}#sk-container-id-3 div.sk-dashed-wrapped {border: 1px dashed gray;margin: 0 0.4em 0.5em 0.4em;box-sizing: border-box;padding-bottom: 0.4em;background-color: white;}#sk-container-id-3 div.sk-label label {font-family: monospace;font-weight: bold;display: inline-block;line-height: 1.2em;}#sk-container-id-3 div.sk-label-container {text-align: center;}#sk-container-id-3 div.sk-container {/* jupyter's `normalize.less` sets `[hidden] { display: none; }` but bootstrap.min.css set `[hidden] { display: none !important; }` so we also need the `!important` here to be able to override the default hidden behavior on the sphinx rendered scikit-learn.org. See: https://github.com/scikit-learn/scikit-learn/issues/21755 */display: inline-block !important;position: relative;}#sk-container-id-3 div.sk-text-repr-fallback {display: none;}</style><div id=\"sk-container-id-3\" class=\"sk-top-container\"><div class=\"sk-text-repr-fallback\"><pre>SVC()</pre><b>In a Jupyter environment, please rerun this cell to show the HTML representation or trust the notebook. <br />On GitHub, the HTML representation is unable to render, please try loading this page with nbviewer.org.</b></div><div class=\"sk-container\" hidden><div class=\"sk-item\"><div class=\"sk-estimator sk-toggleable\"><input class=\"sk-toggleable__control sk-hidden--visually\" id=\"sk-estimator-id-3\" type=\"checkbox\" checked><label for=\"sk-estimator-id-3\" class=\"sk-toggleable__label sk-toggleable__label-arrow\">SVC</label><div class=\"sk-toggleable__content\"><pre>SVC()</pre></div></div></div></div></div>"
      ],
      "text/plain": [
       "SVC()"
      ]
     },
     "execution_count": 37,
     "metadata": {},
     "output_type": "execute_result"
    }
   ],
   "source": [
    "model = SVC()\n",
    "model.fit(X_train_res1, y_train_res1) # без препроцессинга"
   ]
  },
  {
   "cell_type": "code",
   "execution_count": 61,
   "id": "a8fdc498",
   "metadata": {},
   "outputs": [
    {
     "name": "stdout",
     "output_type": "stream",
     "text": [
      "              precision    recall  f1-score   support\n",
      "\n",
      "   happiness       0.22      0.34      0.27      1040\n",
      "        love       0.35      0.51      0.42       800\n",
      "     neutral       0.54      0.33      0.41      4181\n",
      "       other       0.31      0.31      0.31      2674\n",
      "     sadness       0.17      0.39      0.24       700\n",
      "       worry       0.38      0.36      0.37      2605\n",
      "\n",
      "    accuracy                           0.35     12000\n",
      "   macro avg       0.33      0.37      0.33     12000\n",
      "weighted avg       0.39      0.35      0.35     12000\n",
      "\n"
     ]
    }
   ],
   "source": [
    "pred_svm1 = model.predict(X_test1)\n",
    "print(classification_report(pred_svm1, y_test1, zero_division=0))"
   ]
  },
  {
   "cell_type": "code",
   "execution_count": 62,
   "id": "5898c63d",
   "metadata": {},
   "outputs": [
    {
     "data": {
      "text/html": [
       "<div>\n",
       "<style scoped>\n",
       "    .dataframe tbody tr th:only-of-type {\n",
       "        vertical-align: middle;\n",
       "    }\n",
       "\n",
       "    .dataframe tbody tr th {\n",
       "        vertical-align: top;\n",
       "    }\n",
       "\n",
       "    .dataframe thead th {\n",
       "        text-align: right;\n",
       "    }\n",
       "</style>\n",
       "<table border=\"1\" class=\"dataframe\">\n",
       "  <thead>\n",
       "    <tr style=\"text-align: right;\">\n",
       "      <th></th>\n",
       "      <th>Predicted happiness</th>\n",
       "      <th>Predicted love</th>\n",
       "      <th>Predicted neutral</th>\n",
       "      <th>Predicted other</th>\n",
       "      <th>Predicted sadness</th>\n",
       "      <th>Predicted worry</th>\n",
       "    </tr>\n",
       "  </thead>\n",
       "  <tbody>\n",
       "    <tr>\n",
       "      <th>Actual happiness</th>\n",
       "      <td>352</td>\n",
       "      <td>130</td>\n",
       "      <td>497</td>\n",
       "      <td>422</td>\n",
       "      <td>26</td>\n",
       "      <td>163</td>\n",
       "    </tr>\n",
       "    <tr>\n",
       "      <th>Actual love</th>\n",
       "      <td>174</td>\n",
       "      <td>407</td>\n",
       "      <td>267</td>\n",
       "      <td>194</td>\n",
       "      <td>32</td>\n",
       "      <td>87</td>\n",
       "    </tr>\n",
       "    <tr>\n",
       "      <th>Actual neutral</th>\n",
       "      <td>149</td>\n",
       "      <td>55</td>\n",
       "      <td>1362</td>\n",
       "      <td>475</td>\n",
       "      <td>83</td>\n",
       "      <td>420</td>\n",
       "    </tr>\n",
       "    <tr>\n",
       "      <th>Actual other</th>\n",
       "      <td>231</td>\n",
       "      <td>94</td>\n",
       "      <td>944</td>\n",
       "      <td>827</td>\n",
       "      <td>87</td>\n",
       "      <td>498</td>\n",
       "    </tr>\n",
       "    <tr>\n",
       "      <th>Actual sadness</th>\n",
       "      <td>47</td>\n",
       "      <td>54</td>\n",
       "      <td>382</td>\n",
       "      <td>297</td>\n",
       "      <td>270</td>\n",
       "      <td>510</td>\n",
       "    </tr>\n",
       "    <tr>\n",
       "      <th>Actual worry</th>\n",
       "      <td>87</td>\n",
       "      <td>60</td>\n",
       "      <td>729</td>\n",
       "      <td>459</td>\n",
       "      <td>202</td>\n",
       "      <td>927</td>\n",
       "    </tr>\n",
       "  </tbody>\n",
       "</table>\n",
       "</div>"
      ],
      "text/plain": [
       "                  Predicted happiness  Predicted love  Predicted neutral  \\\n",
       "Actual happiness                  352             130                497   \n",
       "Actual love                       174             407                267   \n",
       "Actual neutral                    149              55               1362   \n",
       "Actual other                      231              94                944   \n",
       "Actual sadness                     47              54                382   \n",
       "Actual worry                       87              60                729   \n",
       "\n",
       "                  Predicted other  Predicted sadness  Predicted worry  \n",
       "Actual happiness              422                 26              163  \n",
       "Actual love                   194                 32               87  \n",
       "Actual neutral                475                 83              420  \n",
       "Actual other                  827                 87              498  \n",
       "Actual sadness                297                270              510  \n",
       "Actual worry                  459                202              927  "
      ]
     },
     "execution_count": 62,
     "metadata": {},
     "output_type": "execute_result"
    }
   ],
   "source": [
    "m_confusion_test = metrics.confusion_matrix(y_test, pred_svm1)\n",
    "\n",
    "\n",
    "pd.DataFrame(data = m_confusion_test, columns = ['Predicted happiness', 'Predicted love', 'Predicted neutral', \n",
    "                                                 'Predicted other', 'Predicted sadness', 'Predicted worry'],\n",
    "            index = ['Actual happiness', 'Actual love', 'Actual neutral', \n",
    "                                                 'Actual other', 'Actual sadness', 'Actual worry'])"
   ]
  },
  {
   "cell_type": "markdown",
   "id": "aa648158",
   "metadata": {},
   "source": [
    "### Gradient Boosting"
   ]
  },
  {
   "cell_type": "code",
   "execution_count": 39,
   "id": "93bc34d0",
   "metadata": {},
   "outputs": [],
   "source": [
    "from sklearn.ensemble import GradientBoostingClassifier"
   ]
  },
  {
   "cell_type": "code",
   "execution_count": 40,
   "id": "712f43cd",
   "metadata": {},
   "outputs": [],
   "source": [
    "gb_clf = GradientBoostingClassifier(n_iter_no_change=5, verbose=10)"
   ]
  },
  {
   "cell_type": "code",
   "execution_count": 41,
   "id": "b252afd3",
   "metadata": {},
   "outputs": [
    {
     "name": "stdout",
     "output_type": "stream",
     "text": [
      "      Iter       Train Loss   Remaining Time \n",
      "         1           1.7610           15.93m\n",
      "         2           1.7384           15.42m\n",
      "         3           1.7212           14.88m\n",
      "         4           1.7074           14.44m\n",
      "         5           1.6958           14.12m\n",
      "         6           1.6859           13.90m\n",
      "         7           1.6774           13.68m\n",
      "         8           1.6694           13.45m\n",
      "         9           1.6624           13.24m\n",
      "        10           1.6560           13.04m\n",
      "        11           1.6504           12.86m\n",
      "        12           1.6454           12.68m\n",
      "        13           1.6406           12.52m\n",
      "        14           1.6361           12.35m\n",
      "        15           1.6320           12.19m\n",
      "        16           1.6276           12.02m\n",
      "        17           1.6234           11.86m\n",
      "        18           1.6195           11.70m\n",
      "        19           1.6155           11.55m\n",
      "        20           1.6121           11.40m\n",
      "        21           1.6087           11.24m\n",
      "        22           1.6052           11.09m\n",
      "        23           1.6021           10.94m\n",
      "        24           1.5990           10.79m\n",
      "        25           1.5954           10.64m\n",
      "        26           1.5922           10.49m\n",
      "        27           1.5894           10.34m\n",
      "        28           1.5869           10.20m\n",
      "        29           1.5837           10.05m\n",
      "        30           1.5808            9.90m\n",
      "        31           1.5782            9.76m\n",
      "        32           1.5757            9.62m\n",
      "        33           1.5729            9.48m\n",
      "        34           1.5708            9.34m\n",
      "        35           1.5684            9.20m\n",
      "        36           1.5662            9.05m\n",
      "        37           1.5640            8.91m\n",
      "        38           1.5617            8.77m\n",
      "        39           1.5596            8.62m\n",
      "        40           1.5574            8.48m\n",
      "        41           1.5552            8.34m\n",
      "        42           1.5533            8.19m\n",
      "        43           1.5512            8.05m\n",
      "        44           1.5492            7.91m\n",
      "        45           1.5470            7.76m\n",
      "        46           1.5450            7.62m\n",
      "        47           1.5432            7.48m\n",
      "        48           1.5415            7.34m\n",
      "        49           1.5395            7.19m\n",
      "        50           1.5376            7.05m\n",
      "        51           1.5361            6.91m\n",
      "        52           1.5343            6.77m\n",
      "        53           1.5325            6.63m\n",
      "        54           1.5309            6.48m\n",
      "        55           1.5294            6.34m\n",
      "        56           1.5277            6.20m\n",
      "        57           1.5260            6.06m\n",
      "        58           1.5244            5.92m\n",
      "        59           1.5227            5.78m\n",
      "        60           1.5212            5.64m\n",
      "        61           1.5195            5.50m\n",
      "        62           1.5179            5.35m\n",
      "        63           1.5167            5.21m\n",
      "        64           1.5151            5.07m\n",
      "        65           1.5137            4.93m\n",
      "        66           1.5123            4.79m\n",
      "        67           1.5108            4.65m\n",
      "        68           1.5093            4.51m\n",
      "        69           1.5079            4.37m\n",
      "        70           1.5066            4.23m\n",
      "        71           1.5051            4.09m\n",
      "        72           1.5039            3.95m\n",
      "        73           1.5025            3.82m\n",
      "        74           1.5013            3.68m\n",
      "        75           1.5001            3.54m\n",
      "        76           1.4987            3.40m\n",
      "        77           1.4973            3.26m\n",
      "        78           1.4960            3.12m\n",
      "        79           1.4949            2.99m\n",
      "        80           1.4936            2.85m\n",
      "        81           1.4924            2.71m\n",
      "        82           1.4912            2.57m\n",
      "        83           1.4901            2.43m\n",
      "        84           1.4889            2.29m\n",
      "        85           1.4879            2.15m\n",
      "        86           1.4866            2.00m\n",
      "        87           1.4854            1.86m\n",
      "        88           1.4843            1.72m\n",
      "        89           1.4829            1.58m\n",
      "        90           1.4818            1.44m\n",
      "        91           1.4807            1.29m\n",
      "        92           1.4795            1.15m\n",
      "        93           1.4784            1.01m\n",
      "        94           1.4775           51.86s\n",
      "        95           1.4764           43.25s\n",
      "        96           1.4752           34.63s\n",
      "        97           1.4742           25.99s\n",
      "        98           1.4731           17.32s\n",
      "        99           1.4719            8.66s\n",
      "       100           1.4708            0.00s\n"
     ]
    },
    {
     "data": {
      "text/html": [
       "<style>#sk-container-id-4 {color: black;background-color: white;}#sk-container-id-4 pre{padding: 0;}#sk-container-id-4 div.sk-toggleable {background-color: white;}#sk-container-id-4 label.sk-toggleable__label {cursor: pointer;display: block;width: 100%;margin-bottom: 0;padding: 0.3em;box-sizing: border-box;text-align: center;}#sk-container-id-4 label.sk-toggleable__label-arrow:before {content: \"▸\";float: left;margin-right: 0.25em;color: #696969;}#sk-container-id-4 label.sk-toggleable__label-arrow:hover:before {color: black;}#sk-container-id-4 div.sk-estimator:hover label.sk-toggleable__label-arrow:before {color: black;}#sk-container-id-4 div.sk-toggleable__content {max-height: 0;max-width: 0;overflow: hidden;text-align: left;background-color: #f0f8ff;}#sk-container-id-4 div.sk-toggleable__content pre {margin: 0.2em;color: black;border-radius: 0.25em;background-color: #f0f8ff;}#sk-container-id-4 input.sk-toggleable__control:checked~div.sk-toggleable__content {max-height: 200px;max-width: 100%;overflow: auto;}#sk-container-id-4 input.sk-toggleable__control:checked~label.sk-toggleable__label-arrow:before {content: \"▾\";}#sk-container-id-4 div.sk-estimator input.sk-toggleable__control:checked~label.sk-toggleable__label {background-color: #d4ebff;}#sk-container-id-4 div.sk-label input.sk-toggleable__control:checked~label.sk-toggleable__label {background-color: #d4ebff;}#sk-container-id-4 input.sk-hidden--visually {border: 0;clip: rect(1px 1px 1px 1px);clip: rect(1px, 1px, 1px, 1px);height: 1px;margin: -1px;overflow: hidden;padding: 0;position: absolute;width: 1px;}#sk-container-id-4 div.sk-estimator {font-family: monospace;background-color: #f0f8ff;border: 1px dotted black;border-radius: 0.25em;box-sizing: border-box;margin-bottom: 0.5em;}#sk-container-id-4 div.sk-estimator:hover {background-color: #d4ebff;}#sk-container-id-4 div.sk-parallel-item::after {content: \"\";width: 100%;border-bottom: 1px solid gray;flex-grow: 1;}#sk-container-id-4 div.sk-label:hover label.sk-toggleable__label {background-color: #d4ebff;}#sk-container-id-4 div.sk-serial::before {content: \"\";position: absolute;border-left: 1px solid gray;box-sizing: border-box;top: 0;bottom: 0;left: 50%;z-index: 0;}#sk-container-id-4 div.sk-serial {display: flex;flex-direction: column;align-items: center;background-color: white;padding-right: 0.2em;padding-left: 0.2em;position: relative;}#sk-container-id-4 div.sk-item {position: relative;z-index: 1;}#sk-container-id-4 div.sk-parallel {display: flex;align-items: stretch;justify-content: center;background-color: white;position: relative;}#sk-container-id-4 div.sk-item::before, #sk-container-id-4 div.sk-parallel-item::before {content: \"\";position: absolute;border-left: 1px solid gray;box-sizing: border-box;top: 0;bottom: 0;left: 50%;z-index: -1;}#sk-container-id-4 div.sk-parallel-item {display: flex;flex-direction: column;z-index: 1;position: relative;background-color: white;}#sk-container-id-4 div.sk-parallel-item:first-child::after {align-self: flex-end;width: 50%;}#sk-container-id-4 div.sk-parallel-item:last-child::after {align-self: flex-start;width: 50%;}#sk-container-id-4 div.sk-parallel-item:only-child::after {width: 0;}#sk-container-id-4 div.sk-dashed-wrapped {border: 1px dashed gray;margin: 0 0.4em 0.5em 0.4em;box-sizing: border-box;padding-bottom: 0.4em;background-color: white;}#sk-container-id-4 div.sk-label label {font-family: monospace;font-weight: bold;display: inline-block;line-height: 1.2em;}#sk-container-id-4 div.sk-label-container {text-align: center;}#sk-container-id-4 div.sk-container {/* jupyter's `normalize.less` sets `[hidden] { display: none; }` but bootstrap.min.css set `[hidden] { display: none !important; }` so we also need the `!important` here to be able to override the default hidden behavior on the sphinx rendered scikit-learn.org. See: https://github.com/scikit-learn/scikit-learn/issues/21755 */display: inline-block !important;position: relative;}#sk-container-id-4 div.sk-text-repr-fallback {display: none;}</style><div id=\"sk-container-id-4\" class=\"sk-top-container\"><div class=\"sk-text-repr-fallback\"><pre>GradientBoostingClassifier(n_iter_no_change=5, verbose=10)</pre><b>In a Jupyter environment, please rerun this cell to show the HTML representation or trust the notebook. <br />On GitHub, the HTML representation is unable to render, please try loading this page with nbviewer.org.</b></div><div class=\"sk-container\" hidden><div class=\"sk-item\"><div class=\"sk-estimator sk-toggleable\"><input class=\"sk-toggleable__control sk-hidden--visually\" id=\"sk-estimator-id-4\" type=\"checkbox\" checked><label for=\"sk-estimator-id-4\" class=\"sk-toggleable__label sk-toggleable__label-arrow\">GradientBoostingClassifier</label><div class=\"sk-toggleable__content\"><pre>GradientBoostingClassifier(n_iter_no_change=5, verbose=10)</pre></div></div></div></div></div>"
      ],
      "text/plain": [
       "GradientBoostingClassifier(n_iter_no_change=5, verbose=10)"
      ]
     },
     "execution_count": 41,
     "metadata": {},
     "output_type": "execute_result"
    }
   ],
   "source": [
    "gb_clf.fit(X_train_res, y_train_res) # с препроцессингом"
   ]
  },
  {
   "cell_type": "code",
   "execution_count": 42,
   "id": "83362f0d",
   "metadata": {},
   "outputs": [],
   "source": [
    "gb_y_pred = gb_clf.predict(X_test)"
   ]
  },
  {
   "cell_type": "code",
   "execution_count": 43,
   "id": "3b1c7de9",
   "metadata": {},
   "outputs": [
    {
     "name": "stdout",
     "output_type": "stream",
     "text": [
      "              precision    recall  f1-score   support\n",
      "\n",
      "   happiness       0.31      0.35      0.32      1590\n",
      "        love       0.45      0.43      0.44      1161\n",
      "     neutral       0.32      0.61      0.42      2544\n",
      "       other       0.31      0.19      0.23      2681\n",
      "     sadness       0.35      0.28      0.31      1560\n",
      "       worry       0.38      0.22      0.28      2464\n",
      "\n",
      "    accuracy                           0.34     12000\n",
      "   macro avg       0.35      0.35      0.34     12000\n",
      "weighted avg       0.35      0.34      0.33     12000\n",
      "\n"
     ]
    }
   ],
   "source": [
    "print(classification_report(y_test, gb_y_pred))"
   ]
  },
  {
   "cell_type": "code",
   "execution_count": 63,
   "id": "67536917",
   "metadata": {},
   "outputs": [
    {
     "data": {
      "text/html": [
       "<div>\n",
       "<style scoped>\n",
       "    .dataframe tbody tr th:only-of-type {\n",
       "        vertical-align: middle;\n",
       "    }\n",
       "\n",
       "    .dataframe tbody tr th {\n",
       "        vertical-align: top;\n",
       "    }\n",
       "\n",
       "    .dataframe thead th {\n",
       "        text-align: right;\n",
       "    }\n",
       "</style>\n",
       "<table border=\"1\" class=\"dataframe\">\n",
       "  <thead>\n",
       "    <tr style=\"text-align: right;\">\n",
       "      <th></th>\n",
       "      <th>Predicted happiness</th>\n",
       "      <th>Predicted love</th>\n",
       "      <th>Predicted neutral</th>\n",
       "      <th>Predicted other</th>\n",
       "      <th>Predicted sadness</th>\n",
       "      <th>Predicted worry</th>\n",
       "    </tr>\n",
       "  </thead>\n",
       "  <tbody>\n",
       "    <tr>\n",
       "      <th>Actual happiness</th>\n",
       "      <td>550</td>\n",
       "      <td>202</td>\n",
       "      <td>472</td>\n",
       "      <td>210</td>\n",
       "      <td>60</td>\n",
       "      <td>96</td>\n",
       "    </tr>\n",
       "    <tr>\n",
       "      <th>Actual love</th>\n",
       "      <td>222</td>\n",
       "      <td>514</td>\n",
       "      <td>248</td>\n",
       "      <td>84</td>\n",
       "      <td>59</td>\n",
       "      <td>34</td>\n",
       "    </tr>\n",
       "    <tr>\n",
       "      <th>Actual neutral</th>\n",
       "      <td>258</td>\n",
       "      <td>94</td>\n",
       "      <td>1474</td>\n",
       "      <td>306</td>\n",
       "      <td>171</td>\n",
       "      <td>241</td>\n",
       "    </tr>\n",
       "    <tr>\n",
       "      <th>Actual other</th>\n",
       "      <td>417</td>\n",
       "      <td>156</td>\n",
       "      <td>1122</td>\n",
       "      <td>483</td>\n",
       "      <td>228</td>\n",
       "      <td>275</td>\n",
       "    </tr>\n",
       "    <tr>\n",
       "      <th>Actual sadness</th>\n",
       "      <td>100</td>\n",
       "      <td>63</td>\n",
       "      <td>459</td>\n",
       "      <td>197</td>\n",
       "      <td>464</td>\n",
       "      <td>277</td>\n",
       "    </tr>\n",
       "    <tr>\n",
       "      <th>Actual worry</th>\n",
       "      <td>205</td>\n",
       "      <td>86</td>\n",
       "      <td>860</td>\n",
       "      <td>343</td>\n",
       "      <td>407</td>\n",
       "      <td>563</td>\n",
       "    </tr>\n",
       "  </tbody>\n",
       "</table>\n",
       "</div>"
      ],
      "text/plain": [
       "                  Predicted happiness  Predicted love  Predicted neutral  \\\n",
       "Actual happiness                  550             202                472   \n",
       "Actual love                       222             514                248   \n",
       "Actual neutral                    258              94               1474   \n",
       "Actual other                      417             156               1122   \n",
       "Actual sadness                    100              63                459   \n",
       "Actual worry                      205              86                860   \n",
       "\n",
       "                  Predicted other  Predicted sadness  Predicted worry  \n",
       "Actual happiness              210                 60               96  \n",
       "Actual love                    84                 59               34  \n",
       "Actual neutral                306                171              241  \n",
       "Actual other                  483                228              275  \n",
       "Actual sadness                197                464              277  \n",
       "Actual worry                  343                407              563  "
      ]
     },
     "execution_count": 63,
     "metadata": {},
     "output_type": "execute_result"
    }
   ],
   "source": [
    "m_confusion_test = metrics.confusion_matrix(y_test, gb_y_pred)\n",
    "\n",
    "\n",
    "pd.DataFrame(data = m_confusion_test, columns = ['Predicted happiness', 'Predicted love', 'Predicted neutral', \n",
    "                                                 'Predicted other', 'Predicted sadness', 'Predicted worry'],\n",
    "            index = ['Actual happiness', 'Actual love', 'Actual neutral', \n",
    "                                                 'Actual other', 'Actual sadness', 'Actual worry'])"
   ]
  },
  {
   "cell_type": "code",
   "execution_count": 44,
   "id": "49a560f3",
   "metadata": {},
   "outputs": [
    {
     "name": "stdout",
     "output_type": "stream",
     "text": [
      "      Iter       Train Loss   Remaining Time \n",
      "         1           1.7605           15.22m\n",
      "         2           1.7379           14.74m\n",
      "         3           1.7206           14.63m\n",
      "         4           1.7066           14.40m\n",
      "         5           1.6947           14.16m\n",
      "         6           1.6848           13.97m\n",
      "         7           1.6761           13.81m\n",
      "         8           1.6682           13.64m\n",
      "         9           1.6616           13.46m\n",
      "        10           1.6551           13.28m\n",
      "        11           1.6491           13.11m\n",
      "        12           1.6437           12.94m\n",
      "        13           1.6388           12.79m\n",
      "        14           1.6344           12.63m\n",
      "        15           1.6301           12.47m\n",
      "        16           1.6254           12.33m\n",
      "        17           1.6213           12.18m\n",
      "        18           1.6171           12.02m\n",
      "        19           1.6133           11.87m\n",
      "        20           1.6096           11.71m\n",
      "        21           1.6060           11.57m\n",
      "        22           1.6025           11.42m\n",
      "        23           1.5994           11.27m\n",
      "        24           1.5963           11.12m\n",
      "        25           1.5929           10.97m\n",
      "        26           1.5896           10.81m\n",
      "        27           1.5864           10.66m\n",
      "        28           1.5835           10.53m\n",
      "        29           1.5810           10.38m\n",
      "        30           1.5781           10.24m\n",
      "        31           1.5754           10.10m\n",
      "        32           1.5727            9.95m\n",
      "        33           1.5702            9.80m\n",
      "        34           1.5675            9.66m\n",
      "        35           1.5652            9.52m\n",
      "        36           1.5629            9.37m\n",
      "        37           1.5605            9.23m\n",
      "        38           1.5582            9.08m\n",
      "        39           1.5559            8.93m\n",
      "        40           1.5539            8.78m\n",
      "        41           1.5514            8.64m\n",
      "        42           1.5489            8.49m\n",
      "        43           1.5468            8.34m\n",
      "        44           1.5448            8.19m\n",
      "        45           1.5428            8.04m\n",
      "        46           1.5410            7.90m\n",
      "        47           1.5390            7.75m\n",
      "        48           1.5369            7.60m\n",
      "        49           1.5351            7.46m\n",
      "        50           1.5333            7.31m\n",
      "        51           1.5314            7.16m\n",
      "        52           1.5294            7.01m\n",
      "        53           1.5279            6.87m\n",
      "        54           1.5262            6.72m\n",
      "        55           1.5245            6.57m\n",
      "        56           1.5226            6.43m\n",
      "        57           1.5211            6.28m\n",
      "        58           1.5193            6.13m\n",
      "        59           1.5176            5.99m\n",
      "        60           1.5159            5.85m\n",
      "        61           1.5144            5.71m\n",
      "        62           1.5130            5.56m\n",
      "        63           1.5116            5.41m\n",
      "        64           1.5099            5.27m\n",
      "        65           1.5084            5.13m\n",
      "        66           1.5070            4.98m\n",
      "        67           1.5053            4.84m\n",
      "        68           1.5039            4.69m\n",
      "        69           1.5025            4.54m\n",
      "        70           1.5012            4.40m\n",
      "        71           1.4999            4.25m\n",
      "        72           1.4983            4.10m\n",
      "        73           1.4970            3.96m\n",
      "        74           1.4956            3.81m\n",
      "        75           1.4942            3.66m\n",
      "        76           1.4930            3.52m\n",
      "        77           1.4918            3.37m\n",
      "        78           1.4905            3.22m\n",
      "        79           1.4893            3.08m\n",
      "        80           1.4880            2.93m\n",
      "        81           1.4868            2.78m\n",
      "        82           1.4854            2.64m\n",
      "        83           1.4841            2.49m\n",
      "        84           1.4828            2.35m\n",
      "        85           1.4815            2.20m\n",
      "        86           1.4804            2.05m\n",
      "        87           1.4791            1.90m\n",
      "        88           1.4779            1.76m\n",
      "        89           1.4767            1.61m\n",
      "        90           1.4758            1.47m\n",
      "        91           1.4745            1.32m\n",
      "        92           1.4732            1.17m\n",
      "        93           1.4720            1.03m\n",
      "        94           1.4708           52.75s\n",
      "        95           1.4695           43.95s\n",
      "        96           1.4682           35.17s\n",
      "        97           1.4671           26.38s\n",
      "        98           1.4660           17.59s\n",
      "        99           1.4649            8.80s\n",
      "       100           1.4637            0.00s\n"
     ]
    },
    {
     "data": {
      "text/html": [
       "<style>#sk-container-id-5 {color: black;background-color: white;}#sk-container-id-5 pre{padding: 0;}#sk-container-id-5 div.sk-toggleable {background-color: white;}#sk-container-id-5 label.sk-toggleable__label {cursor: pointer;display: block;width: 100%;margin-bottom: 0;padding: 0.3em;box-sizing: border-box;text-align: center;}#sk-container-id-5 label.sk-toggleable__label-arrow:before {content: \"▸\";float: left;margin-right: 0.25em;color: #696969;}#sk-container-id-5 label.sk-toggleable__label-arrow:hover:before {color: black;}#sk-container-id-5 div.sk-estimator:hover label.sk-toggleable__label-arrow:before {color: black;}#sk-container-id-5 div.sk-toggleable__content {max-height: 0;max-width: 0;overflow: hidden;text-align: left;background-color: #f0f8ff;}#sk-container-id-5 div.sk-toggleable__content pre {margin: 0.2em;color: black;border-radius: 0.25em;background-color: #f0f8ff;}#sk-container-id-5 input.sk-toggleable__control:checked~div.sk-toggleable__content {max-height: 200px;max-width: 100%;overflow: auto;}#sk-container-id-5 input.sk-toggleable__control:checked~label.sk-toggleable__label-arrow:before {content: \"▾\";}#sk-container-id-5 div.sk-estimator input.sk-toggleable__control:checked~label.sk-toggleable__label {background-color: #d4ebff;}#sk-container-id-5 div.sk-label input.sk-toggleable__control:checked~label.sk-toggleable__label {background-color: #d4ebff;}#sk-container-id-5 input.sk-hidden--visually {border: 0;clip: rect(1px 1px 1px 1px);clip: rect(1px, 1px, 1px, 1px);height: 1px;margin: -1px;overflow: hidden;padding: 0;position: absolute;width: 1px;}#sk-container-id-5 div.sk-estimator {font-family: monospace;background-color: #f0f8ff;border: 1px dotted black;border-radius: 0.25em;box-sizing: border-box;margin-bottom: 0.5em;}#sk-container-id-5 div.sk-estimator:hover {background-color: #d4ebff;}#sk-container-id-5 div.sk-parallel-item::after {content: \"\";width: 100%;border-bottom: 1px solid gray;flex-grow: 1;}#sk-container-id-5 div.sk-label:hover label.sk-toggleable__label {background-color: #d4ebff;}#sk-container-id-5 div.sk-serial::before {content: \"\";position: absolute;border-left: 1px solid gray;box-sizing: border-box;top: 0;bottom: 0;left: 50%;z-index: 0;}#sk-container-id-5 div.sk-serial {display: flex;flex-direction: column;align-items: center;background-color: white;padding-right: 0.2em;padding-left: 0.2em;position: relative;}#sk-container-id-5 div.sk-item {position: relative;z-index: 1;}#sk-container-id-5 div.sk-parallel {display: flex;align-items: stretch;justify-content: center;background-color: white;position: relative;}#sk-container-id-5 div.sk-item::before, #sk-container-id-5 div.sk-parallel-item::before {content: \"\";position: absolute;border-left: 1px solid gray;box-sizing: border-box;top: 0;bottom: 0;left: 50%;z-index: -1;}#sk-container-id-5 div.sk-parallel-item {display: flex;flex-direction: column;z-index: 1;position: relative;background-color: white;}#sk-container-id-5 div.sk-parallel-item:first-child::after {align-self: flex-end;width: 50%;}#sk-container-id-5 div.sk-parallel-item:last-child::after {align-self: flex-start;width: 50%;}#sk-container-id-5 div.sk-parallel-item:only-child::after {width: 0;}#sk-container-id-5 div.sk-dashed-wrapped {border: 1px dashed gray;margin: 0 0.4em 0.5em 0.4em;box-sizing: border-box;padding-bottom: 0.4em;background-color: white;}#sk-container-id-5 div.sk-label label {font-family: monospace;font-weight: bold;display: inline-block;line-height: 1.2em;}#sk-container-id-5 div.sk-label-container {text-align: center;}#sk-container-id-5 div.sk-container {/* jupyter's `normalize.less` sets `[hidden] { display: none; }` but bootstrap.min.css set `[hidden] { display: none !important; }` so we also need the `!important` here to be able to override the default hidden behavior on the sphinx rendered scikit-learn.org. See: https://github.com/scikit-learn/scikit-learn/issues/21755 */display: inline-block !important;position: relative;}#sk-container-id-5 div.sk-text-repr-fallback {display: none;}</style><div id=\"sk-container-id-5\" class=\"sk-top-container\"><div class=\"sk-text-repr-fallback\"><pre>GradientBoostingClassifier(n_iter_no_change=5, verbose=10)</pre><b>In a Jupyter environment, please rerun this cell to show the HTML representation or trust the notebook. <br />On GitHub, the HTML representation is unable to render, please try loading this page with nbviewer.org.</b></div><div class=\"sk-container\" hidden><div class=\"sk-item\"><div class=\"sk-estimator sk-toggleable\"><input class=\"sk-toggleable__control sk-hidden--visually\" id=\"sk-estimator-id-5\" type=\"checkbox\" checked><label for=\"sk-estimator-id-5\" class=\"sk-toggleable__label sk-toggleable__label-arrow\">GradientBoostingClassifier</label><div class=\"sk-toggleable__content\"><pre>GradientBoostingClassifier(n_iter_no_change=5, verbose=10)</pre></div></div></div></div></div>"
      ],
      "text/plain": [
       "GradientBoostingClassifier(n_iter_no_change=5, verbose=10)"
      ]
     },
     "execution_count": 44,
     "metadata": {},
     "output_type": "execute_result"
    }
   ],
   "source": [
    "gb_clf.fit(X_train_res1, y_train_res1) # без препроцессинга"
   ]
  },
  {
   "cell_type": "code",
   "execution_count": 64,
   "id": "2cb671d9",
   "metadata": {},
   "outputs": [],
   "source": [
    "gb_y_pred1 = gb_clf.predict(X_test1)"
   ]
  },
  {
   "cell_type": "code",
   "execution_count": 65,
   "id": "009baa47",
   "metadata": {},
   "outputs": [
    {
     "name": "stdout",
     "output_type": "stream",
     "text": [
      "              precision    recall  f1-score   support\n",
      "\n",
      "   happiness       0.31      0.35      0.33      1590\n",
      "        love       0.46      0.44      0.45      1161\n",
      "     neutral       0.32      0.58      0.41      2544\n",
      "       other       0.30      0.18      0.22      2681\n",
      "     sadness       0.33      0.30      0.31      1560\n",
      "       worry       0.38      0.23      0.29      2464\n",
      "\n",
      "    accuracy                           0.34     12000\n",
      "   macro avg       0.35      0.35      0.34     12000\n",
      "weighted avg       0.34      0.34      0.32     12000\n",
      "\n"
     ]
    }
   ],
   "source": [
    "print(classification_report(y_test, gb_y_pred1))"
   ]
  },
  {
   "cell_type": "code",
   "execution_count": 66,
   "id": "9dac6f65",
   "metadata": {},
   "outputs": [
    {
     "data": {
      "text/html": [
       "<div>\n",
       "<style scoped>\n",
       "    .dataframe tbody tr th:only-of-type {\n",
       "        vertical-align: middle;\n",
       "    }\n",
       "\n",
       "    .dataframe tbody tr th {\n",
       "        vertical-align: top;\n",
       "    }\n",
       "\n",
       "    .dataframe thead th {\n",
       "        text-align: right;\n",
       "    }\n",
       "</style>\n",
       "<table border=\"1\" class=\"dataframe\">\n",
       "  <thead>\n",
       "    <tr style=\"text-align: right;\">\n",
       "      <th></th>\n",
       "      <th>Predicted happiness</th>\n",
       "      <th>Predicted love</th>\n",
       "      <th>Predicted neutral</th>\n",
       "      <th>Predicted other</th>\n",
       "      <th>Predicted sadness</th>\n",
       "      <th>Predicted worry</th>\n",
       "    </tr>\n",
       "  </thead>\n",
       "  <tbody>\n",
       "    <tr>\n",
       "      <th>Actual happiness</th>\n",
       "      <td>550</td>\n",
       "      <td>202</td>\n",
       "      <td>472</td>\n",
       "      <td>210</td>\n",
       "      <td>60</td>\n",
       "      <td>96</td>\n",
       "    </tr>\n",
       "    <tr>\n",
       "      <th>Actual love</th>\n",
       "      <td>222</td>\n",
       "      <td>514</td>\n",
       "      <td>248</td>\n",
       "      <td>84</td>\n",
       "      <td>59</td>\n",
       "      <td>34</td>\n",
       "    </tr>\n",
       "    <tr>\n",
       "      <th>Actual neutral</th>\n",
       "      <td>258</td>\n",
       "      <td>94</td>\n",
       "      <td>1474</td>\n",
       "      <td>306</td>\n",
       "      <td>171</td>\n",
       "      <td>241</td>\n",
       "    </tr>\n",
       "    <tr>\n",
       "      <th>Actual other</th>\n",
       "      <td>417</td>\n",
       "      <td>156</td>\n",
       "      <td>1122</td>\n",
       "      <td>483</td>\n",
       "      <td>228</td>\n",
       "      <td>275</td>\n",
       "    </tr>\n",
       "    <tr>\n",
       "      <th>Actual sadness</th>\n",
       "      <td>100</td>\n",
       "      <td>63</td>\n",
       "      <td>459</td>\n",
       "      <td>197</td>\n",
       "      <td>464</td>\n",
       "      <td>277</td>\n",
       "    </tr>\n",
       "    <tr>\n",
       "      <th>Actual worry</th>\n",
       "      <td>205</td>\n",
       "      <td>86</td>\n",
       "      <td>860</td>\n",
       "      <td>343</td>\n",
       "      <td>407</td>\n",
       "      <td>563</td>\n",
       "    </tr>\n",
       "  </tbody>\n",
       "</table>\n",
       "</div>"
      ],
      "text/plain": [
       "                  Predicted happiness  Predicted love  Predicted neutral  \\\n",
       "Actual happiness                  550             202                472   \n",
       "Actual love                       222             514                248   \n",
       "Actual neutral                    258              94               1474   \n",
       "Actual other                      417             156               1122   \n",
       "Actual sadness                    100              63                459   \n",
       "Actual worry                      205              86                860   \n",
       "\n",
       "                  Predicted other  Predicted sadness  Predicted worry  \n",
       "Actual happiness              210                 60               96  \n",
       "Actual love                    84                 59               34  \n",
       "Actual neutral                306                171              241  \n",
       "Actual other                  483                228              275  \n",
       "Actual sadness                197                464              277  \n",
       "Actual worry                  343                407              563  "
      ]
     },
     "execution_count": 66,
     "metadata": {},
     "output_type": "execute_result"
    }
   ],
   "source": [
    "m_confusion_test = metrics.confusion_matrix(y_test, gb_y_pred1)\n",
    "\n",
    "\n",
    "pd.DataFrame(data = m_confusion_test, columns = ['Predicted happiness', 'Predicted love', 'Predicted neutral', \n",
    "                                                 'Predicted other', 'Predicted sadness', 'Predicted worry'],\n",
    "            index = ['Actual happiness', 'Actual love', 'Actual neutral', \n",
    "                                                 'Actual other', 'Actual sadness', 'Actual worry'])"
   ]
  },
  {
   "cell_type": "markdown",
   "id": "821cb6fa",
   "metadata": {},
   "source": [
    "### K-nearest Neighbors"
   ]
  },
  {
   "cell_type": "code",
   "execution_count": 47,
   "id": "0bb12154",
   "metadata": {},
   "outputs": [],
   "source": [
    "from sklearn.neighbors import KNeighborsClassifier"
   ]
  },
  {
   "cell_type": "code",
   "execution_count": 48,
   "id": "ba4a4079",
   "metadata": {},
   "outputs": [],
   "source": [
    "knn_clf = KNeighborsClassifier()\n",
    "knn_clf.fit(X_train_res1, y_train_res1) # без препроцессинга\n",
    "knn_y_pred = knn_clf.predict(X_test1)"
   ]
  },
  {
   "cell_type": "code",
   "execution_count": 49,
   "id": "3686bb09",
   "metadata": {},
   "outputs": [
    {
     "name": "stdout",
     "output_type": "stream",
     "text": [
      "              precision    recall  f1-score   support\n",
      "\n",
      "   happiness       0.21      0.05      0.08      1590\n",
      "        love       0.39      0.13      0.19      1161\n",
      "     neutral       0.31      0.28      0.29      2544\n",
      "       other       0.23      0.18      0.20      2681\n",
      "     sadness       0.16      0.68      0.26      1560\n",
      "       worry       0.22      0.02      0.03      2464\n",
      "\n",
      "    accuracy                           0.21     12000\n",
      "   macro avg       0.25      0.22      0.18     12000\n",
      "weighted avg       0.25      0.21      0.18     12000\n",
      "\n"
     ]
    }
   ],
   "source": [
    "print(classification_report(y_test1, knn_y_pred))"
   ]
  },
  {
   "cell_type": "code",
   "execution_count": 67,
   "id": "b3a8d202",
   "metadata": {},
   "outputs": [
    {
     "data": {
      "text/html": [
       "<div>\n",
       "<style scoped>\n",
       "    .dataframe tbody tr th:only-of-type {\n",
       "        vertical-align: middle;\n",
       "    }\n",
       "\n",
       "    .dataframe tbody tr th {\n",
       "        vertical-align: top;\n",
       "    }\n",
       "\n",
       "    .dataframe thead th {\n",
       "        text-align: right;\n",
       "    }\n",
       "</style>\n",
       "<table border=\"1\" class=\"dataframe\">\n",
       "  <thead>\n",
       "    <tr style=\"text-align: right;\">\n",
       "      <th></th>\n",
       "      <th>Predicted happiness</th>\n",
       "      <th>Predicted love</th>\n",
       "      <th>Predicted neutral</th>\n",
       "      <th>Predicted other</th>\n",
       "      <th>Predicted sadness</th>\n",
       "      <th>Predicted worry</th>\n",
       "    </tr>\n",
       "  </thead>\n",
       "  <tbody>\n",
       "    <tr>\n",
       "      <th>Actual happiness</th>\n",
       "      <td>444</td>\n",
       "      <td>76</td>\n",
       "      <td>71</td>\n",
       "      <td>40</td>\n",
       "      <td>953</td>\n",
       "      <td>6</td>\n",
       "    </tr>\n",
       "    <tr>\n",
       "      <th>Actual love</th>\n",
       "      <td>304</td>\n",
       "      <td>152</td>\n",
       "      <td>49</td>\n",
       "      <td>29</td>\n",
       "      <td>622</td>\n",
       "      <td>5</td>\n",
       "    </tr>\n",
       "    <tr>\n",
       "      <th>Actual neutral</th>\n",
       "      <td>415</td>\n",
       "      <td>53</td>\n",
       "      <td>301</td>\n",
       "      <td>115</td>\n",
       "      <td>1623</td>\n",
       "      <td>37</td>\n",
       "    </tr>\n",
       "    <tr>\n",
       "      <th>Actual other</th>\n",
       "      <td>463</td>\n",
       "      <td>68</td>\n",
       "      <td>130</td>\n",
       "      <td>104</td>\n",
       "      <td>1900</td>\n",
       "      <td>16</td>\n",
       "    </tr>\n",
       "    <tr>\n",
       "      <th>Actual sadness</th>\n",
       "      <td>151</td>\n",
       "      <td>27</td>\n",
       "      <td>50</td>\n",
       "      <td>32</td>\n",
       "      <td>1280</td>\n",
       "      <td>20</td>\n",
       "    </tr>\n",
       "    <tr>\n",
       "      <th>Actual worry</th>\n",
       "      <td>290</td>\n",
       "      <td>43</td>\n",
       "      <td>120</td>\n",
       "      <td>67</td>\n",
       "      <td>1905</td>\n",
       "      <td>39</td>\n",
       "    </tr>\n",
       "  </tbody>\n",
       "</table>\n",
       "</div>"
      ],
      "text/plain": [
       "                  Predicted happiness  Predicted love  Predicted neutral  \\\n",
       "Actual happiness                  444              76                 71   \n",
       "Actual love                       304             152                 49   \n",
       "Actual neutral                    415              53                301   \n",
       "Actual other                      463              68                130   \n",
       "Actual sadness                    151              27                 50   \n",
       "Actual worry                      290              43                120   \n",
       "\n",
       "                  Predicted other  Predicted sadness  Predicted worry  \n",
       "Actual happiness               40                953                6  \n",
       "Actual love                    29                622                5  \n",
       "Actual neutral                115               1623               37  \n",
       "Actual other                  104               1900               16  \n",
       "Actual sadness                 32               1280               20  \n",
       "Actual worry                   67               1905               39  "
      ]
     },
     "execution_count": 67,
     "metadata": {},
     "output_type": "execute_result"
    }
   ],
   "source": [
    "m_confusion_test = metrics.confusion_matrix(y_test, knn_y_pred)\n",
    "\n",
    "\n",
    "pd.DataFrame(data = m_confusion_test, columns = ['Predicted happiness', 'Predicted love', 'Predicted neutral', \n",
    "                                                 'Predicted other', 'Predicted sadness', 'Predicted worry'],\n",
    "            index = ['Actual happiness', 'Actual love', 'Actual neutral', \n",
    "                                                 'Actual other', 'Actual sadness', 'Actual worry'])"
   ]
  },
  {
   "cell_type": "code",
   "execution_count": 68,
   "id": "c2bc2fe9",
   "metadata": {},
   "outputs": [],
   "source": [
    "knn_clf = KNeighborsClassifier()\n",
    "knn_clf.fit(X_train_res, y_train_res) # с препроцессингом\n",
    "knn_y_pred1 = knn_clf.predict(X_test)"
   ]
  },
  {
   "cell_type": "code",
   "execution_count": 69,
   "id": "68505900",
   "metadata": {},
   "outputs": [
    {
     "name": "stdout",
     "output_type": "stream",
     "text": [
      "              precision    recall  f1-score   support\n",
      "\n",
      "   happiness       0.21      0.28      0.24      1590\n",
      "        love       0.36      0.13      0.19      1161\n",
      "     neutral       0.42      0.12      0.18      2544\n",
      "       other       0.27      0.04      0.07      2681\n",
      "     sadness       0.15      0.82      0.26      1560\n",
      "       worry       0.32      0.02      0.03      2464\n",
      "\n",
      "    accuracy                           0.19     12000\n",
      "   macro avg       0.29      0.23      0.16     12000\n",
      "weighted avg       0.30      0.19      0.15     12000\n",
      "\n"
     ]
    }
   ],
   "source": [
    "print(classification_report(y_test, knn_y_pred1))"
   ]
  },
  {
   "cell_type": "code",
   "execution_count": 70,
   "id": "e7a6c2a9",
   "metadata": {},
   "outputs": [
    {
     "data": {
      "text/html": [
       "<div>\n",
       "<style scoped>\n",
       "    .dataframe tbody tr th:only-of-type {\n",
       "        vertical-align: middle;\n",
       "    }\n",
       "\n",
       "    .dataframe tbody tr th {\n",
       "        vertical-align: top;\n",
       "    }\n",
       "\n",
       "    .dataframe thead th {\n",
       "        text-align: right;\n",
       "    }\n",
       "</style>\n",
       "<table border=\"1\" class=\"dataframe\">\n",
       "  <thead>\n",
       "    <tr style=\"text-align: right;\">\n",
       "      <th></th>\n",
       "      <th>Predicted happiness</th>\n",
       "      <th>Predicted love</th>\n",
       "      <th>Predicted neutral</th>\n",
       "      <th>Predicted other</th>\n",
       "      <th>Predicted sadness</th>\n",
       "      <th>Predicted worry</th>\n",
       "    </tr>\n",
       "  </thead>\n",
       "  <tbody>\n",
       "    <tr>\n",
       "      <th>Actual happiness</th>\n",
       "      <td>444</td>\n",
       "      <td>76</td>\n",
       "      <td>71</td>\n",
       "      <td>40</td>\n",
       "      <td>953</td>\n",
       "      <td>6</td>\n",
       "    </tr>\n",
       "    <tr>\n",
       "      <th>Actual love</th>\n",
       "      <td>304</td>\n",
       "      <td>152</td>\n",
       "      <td>49</td>\n",
       "      <td>29</td>\n",
       "      <td>622</td>\n",
       "      <td>5</td>\n",
       "    </tr>\n",
       "    <tr>\n",
       "      <th>Actual neutral</th>\n",
       "      <td>415</td>\n",
       "      <td>53</td>\n",
       "      <td>301</td>\n",
       "      <td>115</td>\n",
       "      <td>1623</td>\n",
       "      <td>37</td>\n",
       "    </tr>\n",
       "    <tr>\n",
       "      <th>Actual other</th>\n",
       "      <td>463</td>\n",
       "      <td>68</td>\n",
       "      <td>130</td>\n",
       "      <td>104</td>\n",
       "      <td>1900</td>\n",
       "      <td>16</td>\n",
       "    </tr>\n",
       "    <tr>\n",
       "      <th>Actual sadness</th>\n",
       "      <td>151</td>\n",
       "      <td>27</td>\n",
       "      <td>50</td>\n",
       "      <td>32</td>\n",
       "      <td>1280</td>\n",
       "      <td>20</td>\n",
       "    </tr>\n",
       "    <tr>\n",
       "      <th>Actual worry</th>\n",
       "      <td>290</td>\n",
       "      <td>43</td>\n",
       "      <td>120</td>\n",
       "      <td>67</td>\n",
       "      <td>1905</td>\n",
       "      <td>39</td>\n",
       "    </tr>\n",
       "  </tbody>\n",
       "</table>\n",
       "</div>"
      ],
      "text/plain": [
       "                  Predicted happiness  Predicted love  Predicted neutral  \\\n",
       "Actual happiness                  444              76                 71   \n",
       "Actual love                       304             152                 49   \n",
       "Actual neutral                    415              53                301   \n",
       "Actual other                      463              68                130   \n",
       "Actual sadness                    151              27                 50   \n",
       "Actual worry                      290              43                120   \n",
       "\n",
       "                  Predicted other  Predicted sadness  Predicted worry  \n",
       "Actual happiness               40                953                6  \n",
       "Actual love                    29                622                5  \n",
       "Actual neutral                115               1623               37  \n",
       "Actual other                  104               1900               16  \n",
       "Actual sadness                 32               1280               20  \n",
       "Actual worry                   67               1905               39  "
      ]
     },
     "execution_count": 70,
     "metadata": {},
     "output_type": "execute_result"
    }
   ],
   "source": [
    "m_confusion_test = metrics.confusion_matrix(y_test, knn_y_pred1)\n",
    "\n",
    "\n",
    "pd.DataFrame(data = m_confusion_test, columns = ['Predicted happiness', 'Predicted love', 'Predicted neutral', \n",
    "                                                 'Predicted other', 'Predicted sadness', 'Predicted worry'],\n",
    "            index = ['Actual happiness', 'Actual love', 'Actual neutral', \n",
    "                                                 'Actual other', 'Actual sadness', 'Actual worry'])"
   ]
  },
  {
   "cell_type": "code",
   "execution_count": null,
   "id": "784c2e7a",
   "metadata": {},
   "outputs": [],
   "source": []
  }
 ],
 "metadata": {
  "kernelspec": {
   "display_name": "Python 3 (ipykernel)",
   "language": "python",
   "name": "python3"
  },
  "language_info": {
   "codemirror_mode": {
    "name": "ipython",
    "version": 3
   },
   "file_extension": ".py",
   "mimetype": "text/x-python",
   "name": "python",
   "nbconvert_exporter": "python",
   "pygments_lexer": "ipython3",
   "version": "3.9.7"
  }
 },
 "nbformat": 4,
 "nbformat_minor": 5
}
